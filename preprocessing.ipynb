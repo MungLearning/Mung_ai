{
 "cells": [
  {
   "cell_type": "code",
   "execution_count": 89,
   "metadata": {},
   "outputs": [],
   "source": [
    "import pandas as pd\n",
    "df = pd.read_csv('data/dog_adopt_eda.csv')"
   ]
  },
  {
   "cell_type": "code",
   "execution_count": 90,
   "metadata": {},
   "outputs": [
    {
     "data": {
      "text/html": [
       "<div>\n",
       "<style scoped>\n",
       "    .dataframe tbody tr th:only-of-type {\n",
       "        vertical-align: middle;\n",
       "    }\n",
       "\n",
       "    .dataframe tbody tr th {\n",
       "        vertical-align: top;\n",
       "    }\n",
       "\n",
       "    .dataframe thead th {\n",
       "        text-align: right;\n",
       "    }\n",
       "</style>\n",
       "<table border=\"1\" class=\"dataframe\">\n",
       "  <thead>\n",
       "    <tr style=\"text-align: right;\">\n",
       "      <th></th>\n",
       "      <th>품종</th>\n",
       "      <th>색</th>\n",
       "      <th>성별</th>\n",
       "      <th>중성화유무</th>\n",
       "      <th>무게(Kg)</th>\n",
       "      <th>기타특징</th>\n",
       "      <th>상태</th>\n",
       "      <th>나이</th>\n",
       "    </tr>\n",
       "  </thead>\n",
       "  <tbody>\n",
       "    <tr>\n",
       "      <th>0</th>\n",
       "      <td>비숑 프리제</td>\n",
       "      <td>흰색</td>\n",
       "      <td>수컷</td>\n",
       "      <td>아니오</td>\n",
       "      <td>5.1</td>\n",
       "      <td>칩 있음</td>\n",
       "      <td>반환</td>\n",
       "      <td>152</td>\n",
       "    </tr>\n",
       "    <tr>\n",
       "      <th>1</th>\n",
       "      <td>보더 콜리</td>\n",
       "      <td>흰+검</td>\n",
       "      <td>암컷</td>\n",
       "      <td>예</td>\n",
       "      <td>20.0</td>\n",
       "      <td>칩 등록되어 있음, 사람을 좋아함</td>\n",
       "      <td>반환</td>\n",
       "      <td>56</td>\n",
       "    </tr>\n",
       "    <tr>\n",
       "      <th>2</th>\n",
       "      <td>포메라니안</td>\n",
       "      <td>갈색</td>\n",
       "      <td>수컷</td>\n",
       "      <td>아니오</td>\n",
       "      <td>5.7</td>\n",
       "      <td>칩있음, 하네스 착용</td>\n",
       "      <td>반환</td>\n",
       "      <td>116</td>\n",
       "    </tr>\n",
       "    <tr>\n",
       "      <th>3</th>\n",
       "      <td>보더 콜리</td>\n",
       "      <td>치즈</td>\n",
       "      <td>미상</td>\n",
       "      <td>미상</td>\n",
       "      <td>15.0</td>\n",
       "      <td>순함</td>\n",
       "      <td>반환</td>\n",
       "      <td>68</td>\n",
       "    </tr>\n",
       "    <tr>\n",
       "      <th>4</th>\n",
       "      <td>믹스견</td>\n",
       "      <td>검정</td>\n",
       "      <td>수컷</td>\n",
       "      <td>아니오</td>\n",
       "      <td>9.3</td>\n",
       "      <td>순함, 겁 많음</td>\n",
       "      <td>미입양</td>\n",
       "      <td>44</td>\n",
       "    </tr>\n",
       "  </tbody>\n",
       "</table>\n",
       "</div>"
      ],
      "text/plain": [
       "       품종    색  성별 중성화유무  무게(Kg)                기타특징   상태   나이\n",
       "0  비숑 프리제   흰색  수컷   아니오     5.1                칩 있음   반환  152\n",
       "1   보더 콜리  흰+검  암컷     예    20.0  칩 등록되어 있음, 사람을 좋아함   반환   56\n",
       "2   포메라니안   갈색  수컷   아니오     5.7         칩있음, 하네스 착용   반환  116\n",
       "3   보더 콜리   치즈  미상    미상    15.0                  순함   반환   68\n",
       "4     믹스견   검정  수컷   아니오     9.3            순함, 겁 많음  미입양   44"
      ]
     },
     "execution_count": 90,
     "metadata": {},
     "output_type": "execute_result"
    }
   ],
   "source": [
    "df.head()"
   ]
  },
  {
   "cell_type": "code",
   "execution_count": 91,
   "metadata": {},
   "outputs": [],
   "source": [
    "df_encoded = pd.get_dummies(df, columns=['성별', '중성화유무', '상태'])"
   ]
  },
  {
   "cell_type": "code",
   "execution_count": 92,
   "metadata": {},
   "outputs": [],
   "source": [
    "df = df_encoded"
   ]
  },
  {
   "cell_type": "code",
   "execution_count": 93,
   "metadata": {},
   "outputs": [
    {
     "name": "stderr",
     "output_type": "stream",
     "text": [
      "c:\\Users\\Admin\\Desktop\\metaverse\\project\\dog_adopt_probability\\.venv\\Lib\\site-packages\\transformers\\tokenization_utils_base.py:1601: FutureWarning: `clean_up_tokenization_spaces` was not set. It will be set to `True` by default. This behavior will be depracted in transformers v4.45, and will be then set to `False` by default. For more details check this issue: https://github.com/huggingface/transformers/issues/31884\n",
      "  warnings.warn(\n"
     ]
    }
   ],
   "source": [
    "from sentence_transformers import SentenceTransformer\n",
    "import torch \n",
    "device = 'cuda' if torch.cuda.is_available() else 'cpu'\n",
    "model = SentenceTransformer('snunlp/KR-SBERT-V40K-klueNLI-augSTS')\n",
    "embeddings = model.encode(df['색'].tolist(), device=device, convert_to_tensor=True)\n",
    "    "
   ]
  },
  {
   "cell_type": "code",
   "execution_count": 98,
   "metadata": {},
   "outputs": [
    {
     "ename": "RuntimeError",
     "evalue": "Numpy is not available",
     "output_type": "error",
     "traceback": [
      "\u001b[1;31m---------------------------------------------------------------------------\u001b[0m",
      "\u001b[1;31mRuntimeError\u001b[0m                              Traceback (most recent call last)",
      "Cell \u001b[1;32mIn[98], line 1\u001b[0m\n\u001b[1;32m----> 1\u001b[0m embeddings_np \u001b[38;5;241m=\u001b[39m \u001b[43membeddings\u001b[49m\u001b[38;5;241;43m.\u001b[39;49m\u001b[43mcpu\u001b[49m\u001b[43m(\u001b[49m\u001b[43m)\u001b[49m\u001b[38;5;241;43m.\u001b[39;49m\u001b[43mnumpy\u001b[49m\u001b[43m(\u001b[49m\u001b[43m)\u001b[49m\n",
      "\u001b[1;31mRuntimeError\u001b[0m: Numpy is not available"
     ]
    }
   ],
   "source": [
    "embeddings_np = embeddings.cpu().numpy()"
   ]
  },
  {
   "cell_type": "code",
   "execution_count": null,
   "metadata": {},
   "outputs": [
    {
     "ename": "NameError",
     "evalue": "name 'embeddings_np' is not defined",
     "output_type": "error",
     "traceback": [
      "\u001b[1;31m---------------------------------------------------------------------------\u001b[0m",
      "\u001b[1;31mNameError\u001b[0m                                 Traceback (most recent call last)",
      "Cell \u001b[1;32mIn[79], line 4\u001b[0m\n\u001b[0;32m      1\u001b[0m \u001b[38;5;28;01mfrom\u001b[39;00m \u001b[38;5;21;01msklearn\u001b[39;00m\u001b[38;5;21;01m.\u001b[39;00m\u001b[38;5;21;01mcluster\u001b[39;00m \u001b[38;5;28;01mimport\u001b[39;00m KMeans\n\u001b[0;32m      3\u001b[0m kmeans \u001b[38;5;241m=\u001b[39m KMeans(n_clusters\u001b[38;5;241m=\u001b[39m\u001b[38;5;241m5\u001b[39m, random_state\u001b[38;5;241m=\u001b[39m\u001b[38;5;241m42\u001b[39m)\n\u001b[1;32m----> 4\u001b[0m clusters \u001b[38;5;241m=\u001b[39m kmeans\u001b[38;5;241m.\u001b[39mfit_predict(\u001b[43membeddings_np\u001b[49m)\n\u001b[0;32m      5\u001b[0m \u001b[38;5;28mprint\u001b[39m(clusters)\n",
      "\u001b[1;31mNameError\u001b[0m: name 'embeddings_np' is not defined"
     ]
    }
   ],
   "source": [
    "from sklearn.cluster import KMeans\n",
    "\n",
    "kmeans = KMeans(n_clusters=5, random_state=42)\n",
    "clusters = kmeans.fit_predict(embeddings_np)\n",
    "print(clusters)"
   ]
  },
  {
   "cell_type": "code",
   "execution_count": 32,
   "metadata": {},
   "outputs": [
    {
     "name": "stdout",
     "output_type": "stream",
     "text": [
      "(2496, 11)\n",
      "(2496, 3)\n"
     ]
    }
   ],
   "source": [
    "from sklearn.model_selection import train_test_split\n",
    "\n",
    "X = df.iloc[:,:-3]\n",
    "y = df.iloc[:,-3:]\n",
    "print(X.shape)  # 피처 데이터의 크기 출력\n",
    "print(y.shape)  # 타겟 데이터의 크기 출력\n",
    "X_train, X_test, y_train, y_test = train_test_split(X, y, test_size=0.2, random_state=42)"
   ]
  },
  {
   "cell_type": "code",
   "execution_count": 41,
   "metadata": {},
   "outputs": [],
   "source": [
    "from sklearn.preprocessing import MinMaxScaler\n",
    "\n",
    "scaler = MinMaxScaler()\n",
    "X_train[['나이', '무게(Kg)']] = scaler.fit_transform(X_train[['나이', '무게(Kg)']])\n",
    "X_test[['나이', '무게(Kg)']] = scaler.transform(X_test[['나이', '무게(Kg)']])\n"
   ]
  },
  {
   "cell_type": "code",
   "execution_count": 99,
   "metadata": {},
   "outputs": [
    {
     "data": {
      "text/plain": [
       "0                            칩 있음\n",
       "1              칩 등록되어 있음, 사람을 좋아함\n",
       "2                     칩있음, 하네스 착용\n",
       "3                              순함\n",
       "4                        순함, 겁 많음\n",
       "                  ...            \n",
       "2491     동물등록돼있음. 빨간목줄착용, 결막염 있음.\n",
       "2492             소방서 인계 후 구조. 순함.\n",
       "2493          생후 6개월 강아지. 백내장 의심.\n",
       "2494    동물등록돼있음. 소방서 인계 후 구조. 순함.\n",
       "2495             진도믹스추정, 경계심이 많음.\n",
       "Name: 기타특징, Length: 2496, dtype: object"
      ]
     },
     "execution_count": 99,
     "metadata": {},
     "output_type": "execute_result"
    }
   ],
   "source": [
    "df['기타특징']"
   ]
  },
  {
   "cell_type": "code",
   "execution_count": 43,
   "metadata": {},
   "outputs": [],
   "source": [
    "from sklearn.ensemble import RandomForestClassifier\n",
    "from sklearn.metrics import accuracy_score\n",
    "from sklearn.preprocessing import LabelEncoder\n",
    "\n",
    "label_encoder = LabelEncoder()\n",
    "X_train['품종'] = label_encoder.fit_transform(X_train['품종'])\n",
    "X_test['품종'] = label_encoder.fit_transform(X_test['품종'])"
   ]
  },
  {
   "cell_type": "code",
   "execution_count": 44,
   "metadata": {},
   "outputs": [
    {
     "data": {
      "text/html": [
       "<div>\n",
       "<style scoped>\n",
       "    .dataframe tbody tr th:only-of-type {\n",
       "        vertical-align: middle;\n",
       "    }\n",
       "\n",
       "    .dataframe tbody tr th {\n",
       "        vertical-align: top;\n",
       "    }\n",
       "\n",
       "    .dataframe thead th {\n",
       "        text-align: right;\n",
       "    }\n",
       "</style>\n",
       "<table border=\"1\" class=\"dataframe\">\n",
       "  <thead>\n",
       "    <tr style=\"text-align: right;\">\n",
       "      <th></th>\n",
       "      <th>품종</th>\n",
       "      <th>색</th>\n",
       "      <th>무게(Kg)</th>\n",
       "      <th>기타특징</th>\n",
       "      <th>나이</th>\n",
       "      <th>성별_미상</th>\n",
       "      <th>성별_수컷</th>\n",
       "      <th>성별_암컷</th>\n",
       "      <th>중성화유무_미상</th>\n",
       "      <th>중성화유무_아니오</th>\n",
       "      <th>중성화유무_예</th>\n",
       "    </tr>\n",
       "  </thead>\n",
       "  <tbody>\n",
       "    <tr>\n",
       "      <th>109</th>\n",
       "      <td>13</td>\n",
       "      <td>미색</td>\n",
       "      <td>0.009350</td>\n",
       "      <td>15마리 함께 구조, 3주 추정</td>\n",
       "      <td>0.020</td>\n",
       "      <td>False</td>\n",
       "      <td>True</td>\n",
       "      <td>False</td>\n",
       "      <td>False</td>\n",
       "      <td>True</td>\n",
       "      <td>False</td>\n",
       "    </tr>\n",
       "    <tr>\n",
       "      <th>2301</th>\n",
       "      <td>13</td>\n",
       "      <td>검은색</td>\n",
       "      <td>0.065004</td>\n",
       "      <td>관리.1551 의 자견, 생후 70일 강아지</td>\n",
       "      <td>0.045</td>\n",
       "      <td>False</td>\n",
       "      <td>False</td>\n",
       "      <td>True</td>\n",
       "      <td>False</td>\n",
       "      <td>True</td>\n",
       "      <td>False</td>\n",
       "    </tr>\n",
       "    <tr>\n",
       "      <th>354</th>\n",
       "      <td>22</td>\n",
       "      <td>흰색</td>\n",
       "      <td>0.109528</td>\n",
       "      <td>2마리 함께 구조, 털 뭉침 심함</td>\n",
       "      <td>0.120</td>\n",
       "      <td>False</td>\n",
       "      <td>False</td>\n",
       "      <td>True</td>\n",
       "      <td>True</td>\n",
       "      <td>False</td>\n",
       "      <td>False</td>\n",
       "    </tr>\n",
       "    <tr>\n",
       "      <th>266</th>\n",
       "      <td>13</td>\n",
       "      <td>흰색</td>\n",
       "      <td>0.332146</td>\n",
       "      <td>부견,모견1두 새끼 3두 함께 구조, 8개월 추정</td>\n",
       "      <td>0.005</td>\n",
       "      <td>False</td>\n",
       "      <td>True</td>\n",
       "      <td>False</td>\n",
       "      <td>False</td>\n",
       "      <td>True</td>\n",
       "      <td>False</td>\n",
       "    </tr>\n",
       "    <tr>\n",
       "      <th>2099</th>\n",
       "      <td>13</td>\n",
       "      <td>검황색</td>\n",
       "      <td>0.443455</td>\n",
       "      <td>9 아이 함께 구조. 순함.</td>\n",
       "      <td>0.180</td>\n",
       "      <td>False</td>\n",
       "      <td>False</td>\n",
       "      <td>True</td>\n",
       "      <td>True</td>\n",
       "      <td>False</td>\n",
       "      <td>False</td>\n",
       "    </tr>\n",
       "  </tbody>\n",
       "</table>\n",
       "</div>"
      ],
      "text/plain": [
       "      품종    색    무게(Kg)                         기타특징     나이  성별_미상  성별_수컷  \\\n",
       "109   13   미색  0.009350            15마리 함께 구조, 3주 추정  0.020  False   True   \n",
       "2301  13  검은색  0.065004     관리.1551 의 자견, 생후 70일 강아지  0.045  False  False   \n",
       "354   22   흰색  0.109528           2마리 함께 구조, 털 뭉침 심함  0.120  False  False   \n",
       "266   13   흰색  0.332146  부견,모견1두 새끼 3두 함께 구조, 8개월 추정  0.005  False   True   \n",
       "2099  13  검황색  0.443455              9 아이 함께 구조. 순함.  0.180  False  False   \n",
       "\n",
       "      성별_암컷  중성화유무_미상  중성화유무_아니오  중성화유무_예  \n",
       "109   False     False       True    False  \n",
       "2301   True     False       True    False  \n",
       "354    True      True      False    False  \n",
       "266   False     False       True    False  \n",
       "2099   True      True      False    False  "
      ]
     },
     "execution_count": 44,
     "metadata": {},
     "output_type": "execute_result"
    }
   ],
   "source": []
  },
  {
   "cell_type": "code",
   "execution_count": 102,
   "metadata": {},
   "outputs": [],
   "source": [
    "dog_color = pd.read_csv('data/dog_color.csv')\n",
    "df.drop(columns=['상태_미입양', '상태_반환', '상태_입양'], inplace=True)"
   ]
  },
  {
   "cell_type": "code",
   "execution_count": 104,
   "metadata": {},
   "outputs": [],
   "source": [
    "df_condition = pd.read_csv('data/dog_adopt_eda.csv')['상태']\n",
    "df_condition\n",
    "df = pd.concat([df,df_condition], axis=1)"
   ]
  },
  {
   "cell_type": "code",
   "execution_count": 109,
   "metadata": {},
   "outputs": [],
   "source": [
    "from sklearn.preprocessing import LabelEncoder\n",
    "\n",
    "label_encoder = LabelEncoder()\n",
    "df['색'] = label_encoder.fit_transform(df['색'])"
   ]
  },
  {
   "cell_type": "code",
   "execution_count": 107,
   "metadata": {},
   "outputs": [],
   "source": [
    "df['색'] = dog_color"
   ]
  },
  {
   "cell_type": "code",
   "execution_count": 108,
   "metadata": {},
   "outputs": [
    {
     "data": {
      "text/html": [
       "<div>\n",
       "<style scoped>\n",
       "    .dataframe tbody tr th:only-of-type {\n",
       "        vertical-align: middle;\n",
       "    }\n",
       "\n",
       "    .dataframe tbody tr th {\n",
       "        vertical-align: top;\n",
       "    }\n",
       "\n",
       "    .dataframe thead th {\n",
       "        text-align: right;\n",
       "    }\n",
       "</style>\n",
       "<table border=\"1\" class=\"dataframe\">\n",
       "  <thead>\n",
       "    <tr style=\"text-align: right;\">\n",
       "      <th></th>\n",
       "      <th>품종</th>\n",
       "      <th>색</th>\n",
       "      <th>무게(Kg)</th>\n",
       "      <th>기타특징</th>\n",
       "      <th>나이</th>\n",
       "      <th>성별_미상</th>\n",
       "      <th>성별_수컷</th>\n",
       "      <th>성별_암컷</th>\n",
       "      <th>중성화유무_미상</th>\n",
       "      <th>중성화유무_아니오</th>\n",
       "      <th>중성화유무_예</th>\n",
       "      <th>상태</th>\n",
       "    </tr>\n",
       "  </thead>\n",
       "  <tbody>\n",
       "    <tr>\n",
       "      <th>0</th>\n",
       "      <td>비숑 프리제</td>\n",
       "      <td>흰색계열</td>\n",
       "      <td>5.1</td>\n",
       "      <td>칩 있음</td>\n",
       "      <td>152</td>\n",
       "      <td>False</td>\n",
       "      <td>True</td>\n",
       "      <td>False</td>\n",
       "      <td>False</td>\n",
       "      <td>True</td>\n",
       "      <td>False</td>\n",
       "      <td>1</td>\n",
       "    </tr>\n",
       "    <tr>\n",
       "      <th>1</th>\n",
       "      <td>보더 콜리</td>\n",
       "      <td>혼합색계열</td>\n",
       "      <td>20.0</td>\n",
       "      <td>칩 등록되어 있음, 사람을 좋아함</td>\n",
       "      <td>56</td>\n",
       "      <td>False</td>\n",
       "      <td>False</td>\n",
       "      <td>True</td>\n",
       "      <td>False</td>\n",
       "      <td>False</td>\n",
       "      <td>True</td>\n",
       "      <td>1</td>\n",
       "    </tr>\n",
       "    <tr>\n",
       "      <th>2</th>\n",
       "      <td>포메라니안</td>\n",
       "      <td>갈색계열</td>\n",
       "      <td>5.7</td>\n",
       "      <td>칩있음, 하네스 착용</td>\n",
       "      <td>116</td>\n",
       "      <td>False</td>\n",
       "      <td>True</td>\n",
       "      <td>False</td>\n",
       "      <td>False</td>\n",
       "      <td>True</td>\n",
       "      <td>False</td>\n",
       "      <td>1</td>\n",
       "    </tr>\n",
       "    <tr>\n",
       "      <th>3</th>\n",
       "      <td>보더 콜리</td>\n",
       "      <td>흰색계열</td>\n",
       "      <td>15.0</td>\n",
       "      <td>순함</td>\n",
       "      <td>68</td>\n",
       "      <td>True</td>\n",
       "      <td>False</td>\n",
       "      <td>False</td>\n",
       "      <td>True</td>\n",
       "      <td>False</td>\n",
       "      <td>False</td>\n",
       "      <td>1</td>\n",
       "    </tr>\n",
       "    <tr>\n",
       "      <th>4</th>\n",
       "      <td>믹스견</td>\n",
       "      <td>검정색계열</td>\n",
       "      <td>9.3</td>\n",
       "      <td>순함, 겁 많음</td>\n",
       "      <td>44</td>\n",
       "      <td>False</td>\n",
       "      <td>True</td>\n",
       "      <td>False</td>\n",
       "      <td>False</td>\n",
       "      <td>True</td>\n",
       "      <td>False</td>\n",
       "      <td>0</td>\n",
       "    </tr>\n",
       "  </tbody>\n",
       "</table>\n",
       "</div>"
      ],
      "text/plain": [
       "       품종      색  무게(Kg)                기타특징   나이  성별_미상  성별_수컷  성별_암컷  \\\n",
       "0  비숑 프리제   흰색계열     5.1                칩 있음  152  False   True  False   \n",
       "1   보더 콜리  혼합색계열    20.0  칩 등록되어 있음, 사람을 좋아함   56  False  False   True   \n",
       "2   포메라니안   갈색계열     5.7         칩있음, 하네스 착용  116  False   True  False   \n",
       "3   보더 콜리   흰색계열    15.0                  순함   68   True  False  False   \n",
       "4     믹스견  검정색계열     9.3            순함, 겁 많음   44  False   True  False   \n",
       "\n",
       "   중성화유무_미상  중성화유무_아니오  중성화유무_예  상태  \n",
       "0     False       True    False   1  \n",
       "1     False      False     True   1  \n",
       "2     False       True    False   1  \n",
       "3      True      False    False   1  \n",
       "4     False       True    False   0  "
      ]
     },
     "execution_count": 108,
     "metadata": {},
     "output_type": "execute_result"
    }
   ],
   "source": [
    "df['보유']"
   ]
  },
  {
   "cell_type": "code",
   "execution_count": null,
   "metadata": {},
   "outputs": [],
   "source": []
  }
 ],
 "metadata": {
  "kernelspec": {
   "display_name": ".venv",
   "language": "python",
   "name": "python3"
  },
  "language_info": {
   "codemirror_mode": {
    "name": "ipython",
    "version": 3
   },
   "file_extension": ".py",
   "mimetype": "text/x-python",
   "name": "python",
   "nbconvert_exporter": "python",
   "pygments_lexer": "ipython3",
   "version": "3.12.4"
  }
 },
 "nbformat": 4,
 "nbformat_minor": 2
}
